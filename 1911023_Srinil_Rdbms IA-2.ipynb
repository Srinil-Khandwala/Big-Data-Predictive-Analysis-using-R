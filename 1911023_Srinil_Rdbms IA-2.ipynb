{
 "cells": [
  {
   "cell_type": "markdown",
   "metadata": {},
   "source": [
    "## Random Forest Classifier"
   ]
  },
  {
   "cell_type": "markdown",
   "metadata": {},
   "source": [
    "- **Install the pre-requisite packages**<br>\n",
    "install.packages(\"stats\")<br>\n",
    "install.packages(\"dplyr\")<br>\n",
    "install.packages(\"randomForest\")<br>"
   ]
  },
  {
   "cell_type": "markdown",
   "metadata": {},
   "source": [
    "- Load required library<br>\n",
    "1] **Stats** - has the most basic functions in R<br>\n",
    "2] **dplyr** - has functions that will help with data manipulation<br>\n",
    "3] **randomForest** - has the necessary functions that will help build the random forest model"
   ]
  },
  {
   "cell_type": "code",
   "execution_count": 9,
   "metadata": {
    "scrolled": true
   },
   "outputs": [],
   "source": [
    "library(stats)\n",
    "library(dplyr)\n",
    "library(randomForest)\n",
    "\n",
    "#Load data in mydata object\n",
    "mydata= iris"
   ]
  },
  {
   "cell_type": "markdown",
   "metadata": {},
   "source": [
    "- __mydata__ has 150 observations of 5 variables"
   ]
  },
  {
   "cell_type": "code",
   "execution_count": 2,
   "metadata": {},
   "outputs": [
    {
     "name": "stdout",
     "output_type": "stream",
     "text": [
      "    Sepal.Length Sepal.Width Petal.Length Petal.Width    Species\n",
      "1            5.1         3.5          1.4         0.2     setosa\n",
      "2            4.9         3.0          1.4         0.2     setosa\n",
      "3            4.7         3.2          1.3         0.2     setosa\n",
      "4            4.6         3.1          1.5         0.2     setosa\n",
      "5            5.0         3.6          1.4         0.2     setosa\n",
      "6            5.4         3.9          1.7         0.4     setosa\n",
      "7            4.6         3.4          1.4         0.3     setosa\n",
      "8            5.0         3.4          1.5         0.2     setosa\n",
      "9            4.4         2.9          1.4         0.2     setosa\n",
      "10           4.9         3.1          1.5         0.1     setosa\n",
      "11           5.4         3.7          1.5         0.2     setosa\n",
      "12           4.8         3.4          1.6         0.2     setosa\n",
      "13           4.8         3.0          1.4         0.1     setosa\n",
      "14           4.3         3.0          1.1         0.1     setosa\n",
      "15           5.8         4.0          1.2         0.2     setosa\n",
      "16           5.7         4.4          1.5         0.4     setosa\n",
      "17           5.4         3.9          1.3         0.4     setosa\n",
      "18           5.1         3.5          1.4         0.3     setosa\n",
      "19           5.7         3.8          1.7         0.3     setosa\n",
      "20           5.1         3.8          1.5         0.3     setosa\n",
      "21           5.4         3.4          1.7         0.2     setosa\n",
      "22           5.1         3.7          1.5         0.4     setosa\n",
      "23           4.6         3.6          1.0         0.2     setosa\n",
      "24           5.1         3.3          1.7         0.5     setosa\n",
      "25           4.8         3.4          1.9         0.2     setosa\n",
      "26           5.0         3.0          1.6         0.2     setosa\n",
      "27           5.0         3.4          1.6         0.4     setosa\n",
      "28           5.2         3.5          1.5         0.2     setosa\n",
      "29           5.2         3.4          1.4         0.2     setosa\n",
      "30           4.7         3.2          1.6         0.2     setosa\n",
      "31           4.8         3.1          1.6         0.2     setosa\n",
      "32           5.4         3.4          1.5         0.4     setosa\n",
      "33           5.2         4.1          1.5         0.1     setosa\n",
      "34           5.5         4.2          1.4         0.2     setosa\n",
      "35           4.9         3.1          1.5         0.2     setosa\n",
      "36           5.0         3.2          1.2         0.2     setosa\n",
      "37           5.5         3.5          1.3         0.2     setosa\n",
      "38           4.9         3.6          1.4         0.1     setosa\n",
      "39           4.4         3.0          1.3         0.2     setosa\n",
      "40           5.1         3.4          1.5         0.2     setosa\n",
      "41           5.0         3.5          1.3         0.3     setosa\n",
      "42           4.5         2.3          1.3         0.3     setosa\n",
      "43           4.4         3.2          1.3         0.2     setosa\n",
      "44           5.0         3.5          1.6         0.6     setosa\n",
      "45           5.1         3.8          1.9         0.4     setosa\n",
      "46           4.8         3.0          1.4         0.3     setosa\n",
      "47           5.1         3.8          1.6         0.2     setosa\n",
      "48           4.6         3.2          1.4         0.2     setosa\n",
      "49           5.3         3.7          1.5         0.2     setosa\n",
      "50           5.0         3.3          1.4         0.2     setosa\n",
      "51           7.0         3.2          4.7         1.4 versicolor\n",
      "52           6.4         3.2          4.5         1.5 versicolor\n",
      "53           6.9         3.1          4.9         1.5 versicolor\n",
      "54           5.5         2.3          4.0         1.3 versicolor\n",
      "55           6.5         2.8          4.6         1.5 versicolor\n",
      "56           5.7         2.8          4.5         1.3 versicolor\n",
      "57           6.3         3.3          4.7         1.6 versicolor\n",
      "58           4.9         2.4          3.3         1.0 versicolor\n",
      "59           6.6         2.9          4.6         1.3 versicolor\n",
      "60           5.2         2.7          3.9         1.4 versicolor\n",
      "61           5.0         2.0          3.5         1.0 versicolor\n",
      "62           5.9         3.0          4.2         1.5 versicolor\n",
      "63           6.0         2.2          4.0         1.0 versicolor\n",
      "64           6.1         2.9          4.7         1.4 versicolor\n",
      "65           5.6         2.9          3.6         1.3 versicolor\n",
      "66           6.7         3.1          4.4         1.4 versicolor\n",
      "67           5.6         3.0          4.5         1.5 versicolor\n",
      "68           5.8         2.7          4.1         1.0 versicolor\n",
      "69           6.2         2.2          4.5         1.5 versicolor\n",
      "70           5.6         2.5          3.9         1.1 versicolor\n",
      "71           5.9         3.2          4.8         1.8 versicolor\n",
      "72           6.1         2.8          4.0         1.3 versicolor\n",
      "73           6.3         2.5          4.9         1.5 versicolor\n",
      "74           6.1         2.8          4.7         1.2 versicolor\n",
      "75           6.4         2.9          4.3         1.3 versicolor\n",
      "76           6.6         3.0          4.4         1.4 versicolor\n",
      "77           6.8         2.8          4.8         1.4 versicolor\n",
      "78           6.7         3.0          5.0         1.7 versicolor\n",
      "79           6.0         2.9          4.5         1.5 versicolor\n",
      "80           5.7         2.6          3.5         1.0 versicolor\n",
      "81           5.5         2.4          3.8         1.1 versicolor\n",
      "82           5.5         2.4          3.7         1.0 versicolor\n",
      "83           5.8         2.7          3.9         1.2 versicolor\n",
      "84           6.0         2.7          5.1         1.6 versicolor\n",
      "85           5.4         3.0          4.5         1.5 versicolor\n",
      "86           6.0         3.4          4.5         1.6 versicolor\n",
      "87           6.7         3.1          4.7         1.5 versicolor\n",
      "88           6.3         2.3          4.4         1.3 versicolor\n",
      "89           5.6         3.0          4.1         1.3 versicolor\n",
      "90           5.5         2.5          4.0         1.3 versicolor\n",
      "91           5.5         2.6          4.4         1.2 versicolor\n",
      "92           6.1         3.0          4.6         1.4 versicolor\n",
      "93           5.8         2.6          4.0         1.2 versicolor\n",
      "94           5.0         2.3          3.3         1.0 versicolor\n",
      "95           5.6         2.7          4.2         1.3 versicolor\n",
      "96           5.7         3.0          4.2         1.2 versicolor\n",
      "97           5.7         2.9          4.2         1.3 versicolor\n",
      "98           6.2         2.9          4.3         1.3 versicolor\n",
      "99           5.1         2.5          3.0         1.1 versicolor\n",
      "100          5.7         2.8          4.1         1.3 versicolor\n",
      "101          6.3         3.3          6.0         2.5  virginica\n",
      "102          5.8         2.7          5.1         1.9  virginica\n",
      "103          7.1         3.0          5.9         2.1  virginica\n",
      "104          6.3         2.9          5.6         1.8  virginica\n",
      "105          6.5         3.0          5.8         2.2  virginica\n",
      "106          7.6         3.0          6.6         2.1  virginica\n",
      "107          4.9         2.5          4.5         1.7  virginica\n",
      "108          7.3         2.9          6.3         1.8  virginica\n",
      "109          6.7         2.5          5.8         1.8  virginica\n",
      "110          7.2         3.6          6.1         2.5  virginica\n",
      "111          6.5         3.2          5.1         2.0  virginica\n",
      "112          6.4         2.7          5.3         1.9  virginica\n",
      "113          6.8         3.0          5.5         2.1  virginica\n",
      "114          5.7         2.5          5.0         2.0  virginica\n",
      "115          5.8         2.8          5.1         2.4  virginica\n",
      "116          6.4         3.2          5.3         2.3  virginica\n",
      "117          6.5         3.0          5.5         1.8  virginica\n",
      "118          7.7         3.8          6.7         2.2  virginica\n",
      "119          7.7         2.6          6.9         2.3  virginica\n",
      "120          6.0         2.2          5.0         1.5  virginica\n",
      "121          6.9         3.2          5.7         2.3  virginica\n",
      "122          5.6         2.8          4.9         2.0  virginica\n",
      "123          7.7         2.8          6.7         2.0  virginica\n",
      "124          6.3         2.7          4.9         1.8  virginica\n",
      "125          6.7         3.3          5.7         2.1  virginica\n",
      "126          7.2         3.2          6.0         1.8  virginica\n",
      "127          6.2         2.8          4.8         1.8  virginica\n",
      "128          6.1         3.0          4.9         1.8  virginica\n",
      "129          6.4         2.8          5.6         2.1  virginica\n",
      "130          7.2         3.0          5.8         1.6  virginica\n",
      "131          7.4         2.8          6.1         1.9  virginica\n",
      "132          7.9         3.8          6.4         2.0  virginica\n",
      "133          6.4         2.8          5.6         2.2  virginica\n",
      "134          6.3         2.8          5.1         1.5  virginica\n",
      "135          6.1         2.6          5.6         1.4  virginica\n",
      "136          7.7         3.0          6.1         2.3  virginica\n",
      "137          6.3         3.4          5.6         2.4  virginica\n",
      "138          6.4         3.1          5.5         1.8  virginica\n",
      "139          6.0         3.0          4.8         1.8  virginica\n",
      "140          6.9         3.1          5.4         2.1  virginica\n",
      "141          6.7         3.1          5.6         2.4  virginica\n",
      "142          6.9         3.1          5.1         2.3  virginica\n",
      "143          5.8         2.7          5.1         1.9  virginica\n",
      "144          6.8         3.2          5.9         2.3  virginica\n",
      "145          6.7         3.3          5.7         2.5  virginica\n",
      "146          6.7         3.0          5.2         2.3  virginica\n",
      "147          6.3         2.5          5.0         1.9  virginica\n",
      "148          6.5         3.0          5.2         2.0  virginica\n",
      "149          6.2         3.4          5.4         2.3  virginica\n",
      "150          5.9         3.0          5.1         1.8  virginica\n"
     ]
    }
   ],
   "source": [
    "#inspect mydata\n",
    "print(mydata)"
   ]
  },
  {
   "cell_type": "markdown",
   "metadata": {},
   "source": [
    "Use **str()** to compactly display the internal structure of the object"
   ]
  },
  {
   "cell_type": "code",
   "execution_count": 3,
   "metadata": {},
   "outputs": [
    {
     "name": "stdout",
     "output_type": "stream",
     "text": [
      "'data.frame':\t150 obs. of  5 variables:\n",
      " $ Sepal.Length: num  5.1 4.9 4.7 4.6 5 5.4 4.6 5 4.4 4.9 ...\n",
      " $ Sepal.Width : num  3.5 3 3.2 3.1 3.6 3.9 3.4 3.4 2.9 3.1 ...\n",
      " $ Petal.Length: num  1.4 1.4 1.3 1.5 1.4 1.7 1.4 1.5 1.4 1.5 ...\n",
      " $ Petal.Width : num  0.2 0.2 0.2 0.2 0.2 0.4 0.3 0.2 0.2 0.1 ...\n",
      " $ Species     : Factor w/ 3 levels \"setosa\",\"versicolor\",..: 1 1 1 1 1 1 1 1 1 1 ...\n"
     ]
    }
   ],
   "source": [
    "#variable selection\n",
    "str(mydata)"
   ]
  },
  {
   "cell_type": "markdown",
   "metadata": {},
   "source": [
    "**Factor** - Species<br>\n",
    "*Factor* is R's way of determing a categorical variable<br><br>\n",
    "**Predicted variable** - Species<br>\n",
    "**Predictors** - Sepal.Length , Sepal.Width , Petal.Length , Petal.Width"
   ]
  },
  {
   "cell_type": "markdown",
   "metadata": {},
   "source": [
    "-  Splitting Data in ***Training*** and ***Testing***"
   ]
  },
  {
   "cell_type": "code",
   "execution_count": 4,
   "metadata": {},
   "outputs": [],
   "source": [
    "#A vector that has sample of training values\n",
    "index = sample(2,nrow(mydata),replace = TRUE,prob=c(0.7,0.3))"
   ]
  },
  {
   "cell_type": "markdown",
   "metadata": {},
   "source": [
    "- Training set - 70%<br>\n",
    "- Testing Set - 30%"
   ]
  },
  {
   "cell_type": "code",
   "execution_count": 5,
   "metadata": {},
   "outputs": [],
   "source": [
    "#Training data\n",
    "Training= mydata[index==1,]\n",
    "\n",
    "#Testing data\n",
    "Testing = mydata[index==2,]\n",
    "\n",
    "#Random Forest Model\n",
    "RFM =randomForest(Species~.,data=Training)\n",
    "\n",
    "#Evaluating Model Accuracy\n",
    "Species_Pred = predict(RFM,Testing)"
   ]
  },
  {
   "cell_type": "markdown",
   "metadata": {},
   "source": [
    "- Species_Pred column is added to the **Testing** Dataset"
   ]
  },
  {
   "cell_type": "code",
   "execution_count": 6,
   "metadata": {
    "scrolled": true
   },
   "outputs": [
    {
     "name": "stdout",
     "output_type": "stream",
     "text": [
      "    Sepal.Length Sepal.Width Petal.Length Petal.Width    Species Species_Pred\n",
      "1            5.1         3.5          1.4         0.2     setosa       setosa\n",
      "3            4.7         3.2          1.3         0.2     setosa       setosa\n",
      "4            4.6         3.1          1.5         0.2     setosa       setosa\n",
      "6            5.4         3.9          1.7         0.4     setosa       setosa\n",
      "8            5.0         3.4          1.5         0.2     setosa       setosa\n",
      "11           5.4         3.7          1.5         0.2     setosa       setosa\n",
      "13           4.8         3.0          1.4         0.1     setosa       setosa\n",
      "18           5.1         3.5          1.4         0.3     setosa       setosa\n",
      "19           5.7         3.8          1.7         0.3     setosa       setosa\n",
      "21           5.4         3.4          1.7         0.2     setosa       setosa\n",
      "23           4.6         3.6          1.0         0.2     setosa       setosa\n",
      "25           4.8         3.4          1.9         0.2     setosa       setosa\n",
      "26           5.0         3.0          1.6         0.2     setosa       setosa\n",
      "27           5.0         3.4          1.6         0.4     setosa       setosa\n",
      "28           5.2         3.5          1.5         0.2     setosa       setosa\n",
      "29           5.2         3.4          1.4         0.2     setosa       setosa\n",
      "31           4.8         3.1          1.6         0.2     setosa       setosa\n",
      "33           5.2         4.1          1.5         0.1     setosa       setosa\n",
      "34           5.5         4.2          1.4         0.2     setosa       setosa\n",
      "38           4.9         3.6          1.4         0.1     setosa       setosa\n",
      "41           5.0         3.5          1.3         0.3     setosa       setosa\n",
      "45           5.1         3.8          1.9         0.4     setosa       setosa\n",
      "48           4.6         3.2          1.4         0.2     setosa       setosa\n",
      "50           5.0         3.3          1.4         0.2     setosa       setosa\n",
      "51           7.0         3.2          4.7         1.4 versicolor   versicolor\n",
      "54           5.5         2.3          4.0         1.3 versicolor   versicolor\n",
      "56           5.7         2.8          4.5         1.3 versicolor   versicolor\n",
      "59           6.6         2.9          4.6         1.3 versicolor   versicolor\n",
      "63           6.0         2.2          4.0         1.0 versicolor   versicolor\n",
      "67           5.6         3.0          4.5         1.5 versicolor   versicolor\n",
      "68           5.8         2.7          4.1         1.0 versicolor   versicolor\n",
      "71           5.9         3.2          4.8         1.8 versicolor    virginica\n",
      "77           6.8         2.8          4.8         1.4 versicolor   versicolor\n",
      "80           5.7         2.6          3.5         1.0 versicolor   versicolor\n",
      "81           5.5         2.4          3.8         1.1 versicolor   versicolor\n",
      "82           5.5         2.4          3.7         1.0 versicolor   versicolor\n",
      "84           6.0         2.7          5.1         1.6 versicolor    virginica\n",
      "90           5.5         2.5          4.0         1.3 versicolor   versicolor\n",
      "91           5.5         2.6          4.4         1.2 versicolor   versicolor\n",
      "93           5.8         2.6          4.0         1.2 versicolor   versicolor\n",
      "94           5.0         2.3          3.3         1.0 versicolor   versicolor\n",
      "97           5.7         2.9          4.2         1.3 versicolor   versicolor\n",
      "101          6.3         3.3          6.0         2.5  virginica    virginica\n",
      "103          7.1         3.0          5.9         2.1  virginica    virginica\n",
      "109          6.7         2.5          5.8         1.8  virginica    virginica\n",
      "117          6.5         3.0          5.5         1.8  virginica    virginica\n",
      "118          7.7         3.8          6.7         2.2  virginica    virginica\n",
      "119          7.7         2.6          6.9         2.3  virginica    virginica\n",
      "123          7.7         2.8          6.7         2.0  virginica    virginica\n",
      "125          6.7         3.3          5.7         2.1  virginica    virginica\n",
      "126          7.2         3.2          6.0         1.8  virginica    virginica\n",
      "131          7.4         2.8          6.1         1.9  virginica    virginica\n",
      "136          7.7         3.0          6.1         2.3  virginica    virginica\n",
      "138          6.4         3.1          5.5         1.8  virginica    virginica\n",
      "140          6.9         3.1          5.4         2.1  virginica    virginica\n",
      "143          5.8         2.7          5.1         1.9  virginica    virginica\n",
      "149          6.2         3.4          5.4         2.3  virginica    virginica\n"
     ]
    }
   ],
   "source": [
    "Testing$Species_Pred = Species_Pred\n",
    "print(Testing)"
   ]
  },
  {
   "cell_type": "code",
   "execution_count": 7,
   "metadata": {},
   "outputs": [
    {
     "data": {
      "text/plain": [
       "            \n",
       "             setosa versicolor virginica\n",
       "  setosa         24          0         0\n",
       "  versicolor      0         16         2\n",
       "  virginica       0          0        15"
      ]
     },
     "metadata": {},
     "output_type": "display_data"
    }
   ],
   "source": [
    "#Building confusion matrix\n",
    "CFM = table(Testing$Species,Testing$Species_Pred)\n",
    "CFM"
   ]
  },
  {
   "cell_type": "markdown",
   "metadata": {},
   "source": [
    "- **Calculate Accuracy**"
   ]
  },
  {
   "cell_type": "code",
   "execution_count": 8,
   "metadata": {},
   "outputs": [
    {
     "data": {
      "text/html": [
       "0.964912280701754"
      ],
      "text/latex": [
       "0.964912280701754"
      ],
      "text/markdown": [
       "0.964912280701754"
      ],
      "text/plain": [
       "[1] 0.9649123"
      ]
     },
     "metadata": {},
     "output_type": "display_data"
    }
   ],
   "source": [
    "Classification_Accuracy = sum(diag(CFM)/sum(CFM)) \n",
    "Classification_Accuracy"
   ]
  },
  {
   "cell_type": "code",
   "execution_count": null,
   "metadata": {},
   "outputs": [],
   "source": []
  }
 ],
 "metadata": {
  "kernelspec": {
   "display_name": "R",
   "language": "R",
   "name": "ir"
  },
  "language_info": {
   "codemirror_mode": "r",
   "file_extension": ".r",
   "mimetype": "text/x-r-source",
   "name": "R",
   "pygments_lexer": "r",
   "version": "3.6.1"
  }
 },
 "nbformat": 4,
 "nbformat_minor": 4
}
